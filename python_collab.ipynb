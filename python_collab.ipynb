{
 "cells": [
  {
   "cell_type": "code",
   "execution_count": 55,
   "id": "4fc85602",
   "metadata": {},
   "outputs": [],
   "source": [
    "from bs4 import BeautifulSoup\n",
    "import requests"
   ]
  },
  {
   "cell_type": "code",
   "execution_count": 56,
   "id": "b8dd0e3b",
   "metadata": {},
   "outputs": [
    {
     "name": "stdout",
     "output_type": "stream",
     "text": [
      "<!DOCTYPE html>\n",
      "<html lang=\"en\">\n",
      "<head>\n",
      "<meta charset=\"utf-8\"/>\n",
      "<meta content=\"width=device-width, initial-scale=1.0\" name=\"viewport\"/>\n",
      "<title>Missing Students</title>\n",
      "<link href=\"collab.css\" rel=\"stylesheet\" type=\"text/css\"/>\n",
      "</head>\n",
      "<body>\n",
      "<br/><br/><br/><br/><br/>\n",
      "<header>Names of People Missing</header>\n",
      "<p class=\"para01\">\n",
      "        These people were found missing from JSSATE\n",
      "        </p><table>\n",
      "<thead>\n",
      "<th>Names</th>\n",
      "<th>USN</th>\n",
      "<th>Contact</th>\n",
      "</thead>\n",
      "<tbody>\n",
      "<tr>\n",
      "<td><a href=\"https://hbharathbhat.github.io/Portfolio/\">H Bharath Bhat</a></td>\n",
      "<td>1JS21EC052</td>\n",
      "<td><a href=\"mailto:bharathbhat2805@gmail.com\">Email</a></td>\n",
      "</tr>\n",
      "<tr>\n",
      "<td>Hrushik Raj S</td>\n",
      "<td>1JS21EC058</td>\n",
      "<td><a href=\"mailto:hrushikrajs@gmail.com\">Email</a></td>\n",
      "</tr>\n",
      "<tr>\n",
      "<td>HA Yeshwanth</td>\n",
      "<td>1JS21EC051</td>\n",
      "<td><a href=\"mailto:1js21ec051@jssateb.ac.in\">Email</a></td>\n",
      "</tr>\n",
      "<tr>\n",
      "<td>Bharath Kumar SP</td>\n",
      "<td>1JS21EC0xx</td>\n",
      "<td><a href=\"mailto:bharathbhat2805@gmail.com\">Email</a></td>\n",
      "</tr>\n",
      "</tbody>\n",
      "</table>\n",
      "<img alt=\"hrushik_raj_s\" caption=\"Monkey\" height=\"200px\" src=\"monkey.png\" width=\"300px\"/>\n",
      "</body>\n",
      "</html>\n"
     ]
    }
   ],
   "source": [
    "page=open('index.html','r')\n",
    "soup=BeautifulSoup(page,'html')\n",
    "print(soup)"
   ]
  },
  {
   "cell_type": "code",
   "execution_count": 57,
   "id": "ae561f31",
   "metadata": {},
   "outputs": [
    {
     "name": "stdout",
     "output_type": "stream",
     "text": [
      "<title>Missing Students</title>\n"
     ]
    }
   ],
   "source": [
    "print(soup.title)"
   ]
  },
  {
   "cell_type": "code",
   "execution_count": 58,
   "id": "8d4038cf",
   "metadata": {},
   "outputs": [
    {
     "name": "stdout",
     "output_type": "stream",
     "text": [
      "title\n"
     ]
    }
   ],
   "source": [
    "print(soup.title.name)"
   ]
  },
  {
   "cell_type": "code",
   "execution_count": 59,
   "id": "1ed40bbf",
   "metadata": {},
   "outputs": [
    {
     "name": "stdout",
     "output_type": "stream",
     "text": [
      "Missing Students\n"
     ]
    }
   ],
   "source": [
    "print(soup.title.string)"
   ]
  },
  {
   "cell_type": "code",
   "execution_count": 60,
   "id": "fcb5da36",
   "metadata": {},
   "outputs": [
    {
     "name": "stdout",
     "output_type": "stream",
     "text": [
      "https://hbharathbhat.github.io/Portfolio/\n",
      "mailto:bharathbhat2805@gmail.com\n",
      "mailto:hrushikrajs@gmail.com\n",
      "mailto:1js21ec051@jssateb.ac.in\n",
      "mailto:bharathbhat2805@gmail.com\n"
     ]
    }
   ],
   "source": [
    "for link in soup.find_all('a'):\n",
    "    print(link.get('href'))"
   ]
  },
  {
   "cell_type": "code",
   "execution_count": 36,
   "id": "956e43e6",
   "metadata": {},
   "outputs": [
    {
     "name": "stdout",
     "output_type": "stream",
     "text": [
      "\n",
      "\n",
      "\n",
      "\n",
      "Missing Students\n",
      "\n",
      "\n",
      "\n",
      "\n",
      "Names of People Missing\n",
      "\n",
      "        These people were found missing from JSSATE\n",
      "        \n",
      "\n",
      "Names\n",
      "USN\n",
      "Contact\n",
      "\n",
      "\n",
      "\n",
      "H Bharath Bhat\n",
      "1JS21EC052\n",
      "Email\n",
      "\n",
      "\n",
      "Hrushik Raj S\n",
      "1JS21EC058\n",
      "Email\n",
      "\n",
      "\n",
      "HA Yeshwanth\n",
      "1JS21EC051\n",
      "Email\n",
      "\n",
      "\n",
      "Bharath Kumar SP\n",
      "1JS21EC0xx\n",
      "Email\n",
      "\n",
      "\n",
      "\n",
      "\n",
      "\n",
      "\n"
     ]
    }
   ],
   "source": [
    "print(soup.get_text())"
   ]
  },
  {
   "cell_type": "code",
   "execution_count": 37,
   "id": "a619ad3b",
   "metadata": {},
   "outputs": [
    {
     "name": "stdout",
     "output_type": "stream",
     "text": [
      "<html><body><p>data</p></body></html>\n"
     ]
    }
   ],
   "source": [
    "with open(\"index.html\") as fp:\n",
    "    soup = BeautifulSoup(fp)\n",
    "\n",
    "soup = BeautifulSoup(\"<html>data</html>\")\n",
    "print(soup)"
   ]
  },
  {
   "cell_type": "markdown",
   "id": "59ecbee7",
   "metadata": {},
   "source": [
    "## Tag\n",
    "### A Tag object corresponds to an XML or HTML tag in the original document:"
   ]
  },
  {
   "cell_type": "code",
   "execution_count": 39,
   "id": "d7f7d8c6",
   "metadata": {},
   "outputs": [
    {
     "name": "stdout",
     "output_type": "stream",
     "text": [
      "<class 'bs4.element.Tag'>\n",
      "<b class=\"boldest\">Extremely bold</b>\n"
     ]
    }
   ],
   "source": [
    "soup = BeautifulSoup('<b class=\"boldest\">Extremely bold</b>')\n",
    "tag = soup.b\n",
    "print(type(tag))\n",
    "print(tag)"
   ]
  },
  {
   "cell_type": "code",
   "execution_count": 63,
   "id": "8914b55d",
   "metadata": {},
   "outputs": [
    {
     "name": "stdout",
     "output_type": "stream",
     "text": [
      "<p class=\"para01\">\n",
      "        These people were found missing from JSSATE\n",
      "        </p>\n"
     ]
    }
   ],
   "source": [
    "tags=soup.p\n",
    "print(tags)"
   ]
  },
  {
   "cell_type": "code",
   "execution_count": 64,
   "id": "66c0b210",
   "metadata": {},
   "outputs": [
    {
     "name": "stdout",
     "output_type": "stream",
     "text": [
      "b\n"
     ]
    }
   ],
   "source": [
    "print(tag.name)"
   ]
  },
  {
   "cell_type": "code",
   "execution_count": 65,
   "id": "52c35010",
   "metadata": {},
   "outputs": [
    {
     "name": "stdout",
     "output_type": "stream",
     "text": [
      "p\n"
     ]
    }
   ],
   "source": [
    "print(tags.name)"
   ]
  },
  {
   "cell_type": "code",
   "execution_count": 70,
   "id": "f132a5a9",
   "metadata": {},
   "outputs": [
    {
     "name": "stdout",
     "output_type": "stream",
     "text": [
      "Extremely bold\n"
     ]
    }
   ],
   "source": [
    "tag.name=\"blockquote\"\n",
    "print(tag.text)"
   ]
  },
  {
   "cell_type": "code",
   "execution_count": 75,
   "id": "a29a8286",
   "metadata": {},
   "outputs": [
    {
     "name": "stdout",
     "output_type": "stream",
     "text": [
      "<img alt=\"hrushik_raj_s\" caption=\"Monkey\" height=\"200px\" src=\"monkey.png\" width=\"300px\"/>\n"
     ]
    }
   ],
   "source": [
    "img_tag = soup.find('img')\n",
    "print(img_tag)"
   ]
  },
  {
   "cell_type": "code",
   "execution_count": null,
   "id": "5b82505a",
   "metadata": {},
   "outputs": [],
   "source": []
  }
 ],
 "metadata": {
  "kernelspec": {
   "display_name": "Python 3 (ipykernel)",
   "language": "python",
   "name": "python3"
  },
  "language_info": {
   "codemirror_mode": {
    "name": "ipython",
    "version": 3
   },
   "file_extension": ".py",
   "mimetype": "text/x-python",
   "name": "python",
   "nbconvert_exporter": "python",
   "pygments_lexer": "ipython3",
   "version": "3.11.5"
  }
 },
 "nbformat": 4,
 "nbformat_minor": 5
}
