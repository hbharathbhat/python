{
 "cells": [
  {
   "cell_type": "code",
   "execution_count": 7,
   "id": "ddf15da0",
   "metadata": {},
   "outputs": [],
   "source": [
    "import requests\n",
    "from bs4 import BeautifulSoup"
   ]
  },
  {
   "cell_type": "code",
   "execution_count": 8,
   "id": "c5584b4e",
   "metadata": {
    "scrolled": true
   },
   "outputs": [
    {
     "name": "stdout",
     "output_type": "stream",
     "text": [
      "“The world as we have created it is a process of our thinking. It cannot be changed without changing our thinking.”\n",
      "“It is our choices, Harry, that show what we truly are, far more than our abilities.”\n",
      "“There are only two ways to live your life. One is as though nothing is a miracle. The other is as though everything is a miracle.”\n",
      "“The person, be it gentleman or lady, who has not pleasure in a good novel, must be intolerably stupid.”\n",
      "“Imperfection is beauty, madness is genius and it's better to be absolutely ridiculous than absolutely boring.”\n",
      "“Try not to become a man of success. Rather become a man of value.”\n",
      "“It is better to be hated for what you are than to be loved for what you are not.”\n",
      "“I have not failed. I've just found 10,000 ways that won't work.”\n",
      "“A woman is like a tea bag; you never know how strong it is until it's in hot water.”\n",
      "“A day without sunshine is like, you know, night.”\n",
      "Albert Einstein\n",
      "J.K. Rowling\n",
      "Albert Einstein\n",
      "Jane Austen\n",
      "Marilyn Monroe\n",
      "Albert Einstein\n",
      "André Gide\n",
      "Thomas A. Edison\n",
      "Eleanor Roosevelt\n",
      "Steve Martin\n"
     ]
    }
   ],
   "source": [
    "page_to_scrape=requests.get(\"https://quotes.toscrape.com\")\n",
    "soup=BeautifulSoup(page_to_scrape.text,\"html.parser\")\n",
    "quotes=soup.findAll(\"span\",attrs={\"class\":\"text\"})\n",
    "authors=soup.findAll(\"small\",attrs={\"class\":\"author\"})\n",
    "\n",
    "for quote in quotes:\n",
    "    print(quote.text)\n",
    "for author in authors:\n",
    "    print(author.text)"
   ]
  },
  {
   "cell_type": "code",
   "execution_count": 9,
   "id": "fdd362d9",
   "metadata": {},
   "outputs": [
    {
     "name": "stdout",
     "output_type": "stream",
     "text": [
      "“The world as we have created it is a process of our thinking. It cannot be changed without changing our thinking.”\n",
      "“It is our choices, Harry, that show what we truly are, far more than our abilities.”\n",
      "“There are only two ways to live your life. One is as though nothing is a miracle. The other is as though everything is a miracle.”\n",
      "“The person, be it gentleman or lady, who has not pleasure in a good novel, must be intolerably stupid.”\n",
      "“Imperfection is beauty, madness is genius and it's better to be absolutely ridiculous than absolutely boring.”\n",
      "“Try not to become a man of success. Rather become a man of value.”\n",
      "“It is better to be hated for what you are than to be loved for what you are not.”\n",
      "“I have not failed. I've just found 10,000 ways that won't work.”\n",
      "“A woman is like a tea bag; you never know how strong it is until it's in hot water.”\n",
      "“A day without sunshine is like, you know, night.”\n",
      "Albert Einstein\n",
      "J.K. Rowling\n",
      "Albert Einstein\n",
      "Jane Austen\n",
      "Marilyn Monroe\n",
      "Albert Einstein\n",
      "André Gide\n",
      "Thomas A. Edison\n",
      "Eleanor Roosevelt\n",
      "Steve Martin\n",
      "“The world as we have created it is a process of our thinking. It cannot be changed without changing our thinking.” - Albert Einstein\n",
      "“It is our choices, Harry, that show what we truly are, far more than our abilities.” - J.K. Rowling\n",
      "“There are only two ways to live your life. One is as though nothing is a miracle. The other is as though everything is a miracle.” - Albert Einstein\n",
      "“The person, be it gentleman or lady, who has not pleasure in a good novel, must be intolerably stupid.” - Jane Austen\n",
      "“Imperfection is beauty, madness is genius and it's better to be absolutely ridiculous than absolutely boring.” - Marilyn Monroe\n",
      "“Try not to become a man of success. Rather become a man of value.” - Albert Einstein\n",
      "“It is better to be hated for what you are than to be loved for what you are not.” - André Gide\n",
      "“I have not failed. I've just found 10,000 ways that won't work.” - Thomas A. Edison\n",
      "“A woman is like a tea bag; you never know how strong it is until it's in hot water.” - Eleanor Roosevelt\n",
      "“A day without sunshine is like, you know, night.” - Steve Martin\n"
     ]
    }
   ],
   "source": [
    "import csv \n",
    "\n",
    "page_to_scrape=requests.get(\"https://quotes.toscrape.com\")\n",
    "soup=BeautifulSoup(page_to_scrape.text,\"html.parser\")\n",
    "quotes=soup.findAll(\"span\",attrs={\"class\":\"text\"})\n",
    "authors=soup.findAll(\"small\",attrs={\"class\":\"author\"})\n",
    "\n",
    "for quote in quotes:\n",
    "    print(quote.text)\n",
    "for author in authors:\n",
    "    print(author.text)\n",
    "    \n",
    "file=open(\"scrapped_quotes.csv\",\"w\")\n",
    "#csv.writer(csvfile, dialect='excel', **fmtparams)\n",
    "#Return a writer object responsible for converting the user’s data into delimited strings on the given file-like object.\n",
    "writer = csv.writer(file)\n",
    "\n",
    "writer.writerow([\"Quotes\",\"Authors\"])\n",
    "\n",
    "for quote, author in zip(quotes,authors):\n",
    "    print(quote.text + \" - \"+ author.text)\n",
    "    writer.writerow([quote.text, author.text])\n",
    "file.close()\n"
   ]
  },
  {
   "cell_type": "code",
   "execution_count": 10,
   "id": "c173aecd",
   "metadata": {},
   "outputs": [
    {
     "name": "stdout",
     "output_type": "stream",
     "text": [
      "<!DOCTYPE html>\n",
      "\n",
      "<html lang=\"en\">\n",
      "<head>\n",
      "<meta charset=\"utf-8\"/>\n",
      "<meta content=\"width=device-width, initial-scale=1.0\" name=\"viewport\"/>\n",
      "<title>Missing Students</title>\n",
      "<link href=\"collab.css\" rel=\"stylesheet\" type=\"text/css\"/>\n",
      "</head>\n",
      "<body>\n",
      "<br/><br/><br/><br/><br/>\n",
      "<header>Names of People Missing</header>\n",
      "<h1>India Wants to know</h1>\n",
      "<h2>Hrushik wants to know</h2>\n",
      "<p class=\"para01\">\r\n",
      "        These people were found missing from JSSATE\r\n",
      "        <table>\n",
      "<thead>\n",
      "<th>Names</th>\n",
      "<th>USN</th>\n",
      "<th>Contact</th>\n",
      "</thead>\n",
      "<tbody>\n",
      "<tr>\n",
      "<td><a href=\"https://hbharathbhat.github.io/Portfolio/\">H Bharath Bhat</a></td>\n",
      "<td>1JS21EC052</td>\n",
      "<td><a href=\"mailto:bharathbhat2805@gmail.com\">Email</a></td>\n",
      "</tr>\n",
      "<tr>\n",
      "<td>Hrushik Raj S</td>\n",
      "<td>1JS21EC058</td>\n",
      "<td><a href=\"mailto:hrushikrajs@gmail.com\">Email</a></td>\n",
      "</tr>\n",
      "<tr>\n",
      "<td>HA Yeshwanth</td>\n",
      "<td>1JS21EC051</td>\n",
      "<td><a href=\"mailto:1js21ec051@jssateb.ac.in\">Email</a></td>\n",
      "</tr>\n",
      "<tr>\n",
      "<td>Bharath Kumar SP</td>\n",
      "<td>1JS21EC0xx</td>\n",
      "<td><a href=\"mailto:bharathbhat2805@gmail.com\">Email</a></td>\n",
      "</tr>\n",
      "</tbody>\n",
      "</table>\n",
      "<img alt=\"hrushik_raj_s\" caption=\"Monkey\" height=\"200px\" src=\"monkey.png\" width=\"300px\"/>\n",
      "</p>\n",
      "<p id=\"para02\">Bharath is a legend</p>\n",
      "</body>\n",
      "</html>\n",
      "\n"
     ]
    }
   ],
   "source": [
    "collab=requests.get(\"https://hbharathbhat.github.io/python_collab_act\")\n",
    "soup=BeautifulSoup(collab.text,\"html.parser\")\n",
    "print(soup)"
   ]
  },
  {
   "cell_type": "code",
   "execution_count": 11,
   "id": "87672459",
   "metadata": {},
   "outputs": [
    {
     "name": "stdout",
     "output_type": "stream",
     "text": [
      "<a href=\"https://hbharathbhat.github.io/Portfolio/\">H Bharath Bhat</a>\n"
     ]
    }
   ],
   "source": [
    "print(soup.a)"
   ]
  },
  {
   "cell_type": "code",
   "execution_count": 12,
   "id": "87d3951a",
   "metadata": {},
   "outputs": [
    {
     "name": "stdout",
     "output_type": "stream",
     "text": [
      "<title>Missing Students</title>\n"
     ]
    }
   ],
   "source": [
    "print(soup.title)"
   ]
  },
  {
   "cell_type": "code",
   "execution_count": 13,
   "id": "e9cac263",
   "metadata": {},
   "outputs": [
    {
     "name": "stdout",
     "output_type": "stream",
     "text": [
      "Missing Students\n"
     ]
    }
   ],
   "source": [
    "print(soup.title.string)"
   ]
  },
  {
   "cell_type": "code",
   "execution_count": 14,
   "id": "ef68ac2d",
   "metadata": {},
   "outputs": [
    {
     "name": "stdout",
     "output_type": "stream",
     "text": [
      "[<td><a href=\"https://hbharathbhat.github.io/Portfolio/\">H Bharath Bhat</a></td>, <td>1JS21EC052</td>, <td><a href=\"mailto:bharathbhat2805@gmail.com\">Email</a></td>, <td>Hrushik Raj S</td>, <td>1JS21EC058</td>, <td><a href=\"mailto:hrushikrajs@gmail.com\">Email</a></td>, <td>HA Yeshwanth</td>, <td>1JS21EC051</td>, <td><a href=\"mailto:1js21ec051@jssateb.ac.in\">Email</a></td>, <td>Bharath Kumar SP</td>, <td>1JS21EC0xx</td>, <td><a href=\"mailto:bharathbhat2805@gmail.com\">Email</a></td>]\n"
     ]
    }
   ],
   "source": [
    "tds=soup.find_all('td')\n",
    "print(tds)"
   ]
  },
  {
   "cell_type": "code",
   "execution_count": 15,
   "id": "fc5d065f",
   "metadata": {},
   "outputs": [
    {
     "name": "stdout",
     "output_type": "stream",
     "text": [
      "[<tr>\n",
      "<td><a href=\"https://hbharathbhat.github.io/Portfolio/\">H Bharath Bhat</a></td>\n",
      "<td>1JS21EC052</td>\n",
      "<td><a href=\"mailto:bharathbhat2805@gmail.com\">Email</a></td>\n",
      "</tr>, <tr>\n",
      "<td>Hrushik Raj S</td>\n",
      "<td>1JS21EC058</td>\n",
      "<td><a href=\"mailto:hrushikrajs@gmail.com\">Email</a></td>\n",
      "</tr>, <tr>\n",
      "<td>HA Yeshwanth</td>\n",
      "<td>1JS21EC051</td>\n",
      "<td><a href=\"mailto:1js21ec051@jssateb.ac.in\">Email</a></td>\n",
      "</tr>, <tr>\n",
      "<td>Bharath Kumar SP</td>\n",
      "<td>1JS21EC0xx</td>\n",
      "<td><a href=\"mailto:bharathbhat2805@gmail.com\">Email</a></td>\n",
      "</tr>]\n"
     ]
    }
   ],
   "source": [
    "trs=soup.find_all('tr')\n",
    "print(trs)"
   ]
  },
  {
   "cell_type": "code",
   "execution_count": 16,
   "id": "70295d99",
   "metadata": {},
   "outputs": [
    {
     "name": "stdout",
     "output_type": "stream",
     "text": [
      "[<img alt=\"hrushik_raj_s\" caption=\"Monkey\" height=\"200px\" src=\"monkey.png\" width=\"300px\"/>]\n"
     ]
    }
   ],
   "source": [
    "imgs=soup.find_all('img')\n",
    "print(imgs)"
   ]
  },
  {
   "cell_type": "code",
   "execution_count": 17,
   "id": "8c9df271",
   "metadata": {},
   "outputs": [
    {
     "name": "stdout",
     "output_type": "stream",
     "text": [
      "[<body>\n",
      "<br/><br/><br/><br/><br/>\n",
      "<header>Names of People Missing</header>\n",
      "<h1>India Wants to know</h1>\n",
      "<h2>Hrushik wants to know</h2>\n",
      "<p class=\"para01\">\r\n",
      "        These people were found missing from JSSATE\r\n",
      "        <table>\n",
      "<thead>\n",
      "<th>Names</th>\n",
      "<th>USN</th>\n",
      "<th>Contact</th>\n",
      "</thead>\n",
      "<tbody>\n",
      "<tr>\n",
      "<td><a href=\"https://hbharathbhat.github.io/Portfolio/\">H Bharath Bhat</a></td>\n",
      "<td>1JS21EC052</td>\n",
      "<td><a href=\"mailto:bharathbhat2805@gmail.com\">Email</a></td>\n",
      "</tr>\n",
      "<tr>\n",
      "<td>Hrushik Raj S</td>\n",
      "<td>1JS21EC058</td>\n",
      "<td><a href=\"mailto:hrushikrajs@gmail.com\">Email</a></td>\n",
      "</tr>\n",
      "<tr>\n",
      "<td>HA Yeshwanth</td>\n",
      "<td>1JS21EC051</td>\n",
      "<td><a href=\"mailto:1js21ec051@jssateb.ac.in\">Email</a></td>\n",
      "</tr>\n",
      "<tr>\n",
      "<td>Bharath Kumar SP</td>\n",
      "<td>1JS21EC0xx</td>\n",
      "<td><a href=\"mailto:bharathbhat2805@gmail.com\">Email</a></td>\n",
      "</tr>\n",
      "</tbody>\n",
      "</table>\n",
      "<img alt=\"hrushik_raj_s\" caption=\"Monkey\" height=\"200px\" src=\"monkey.png\" width=\"300px\"/>\n",
      "</p>\n",
      "<p id=\"para02\">Bharath is a legend</p>\n",
      "</body>]\n"
     ]
    }
   ],
   "source": [
    "body=soup.find_all('body')\n",
    "print(body)"
   ]
  },
  {
   "cell_type": "code",
   "execution_count": 18,
   "id": "d2864a55",
   "metadata": {},
   "outputs": [
    {
     "name": "stdout",
     "output_type": "stream",
     "text": [
      "<p class=\"para01\">\r\n",
      "        These people were found missing from JSSATE\r\n",
      "        <table>\n",
      "<thead>\n",
      "<th>Names</th>\n",
      "<th>USN</th>\n",
      "<th>Contact</th>\n",
      "</thead>\n",
      "<tbody>\n",
      "<tr>\n",
      "<td><a href=\"https://hbharathbhat.github.io/Portfolio/\">H Bharath Bhat</a></td>\n",
      "<td>1JS21EC052</td>\n",
      "<td><a href=\"mailto:bharathbhat2805@gmail.com\">Email</a></td>\n",
      "</tr>\n",
      "<tr>\n",
      "<td>Hrushik Raj S</td>\n",
      "<td>1JS21EC058</td>\n",
      "<td><a href=\"mailto:hrushikrajs@gmail.com\">Email</a></td>\n",
      "</tr>\n",
      "<tr>\n",
      "<td>HA Yeshwanth</td>\n",
      "<td>1JS21EC051</td>\n",
      "<td><a href=\"mailto:1js21ec051@jssateb.ac.in\">Email</a></td>\n",
      "</tr>\n",
      "<tr>\n",
      "<td>Bharath Kumar SP</td>\n",
      "<td>1JS21EC0xx</td>\n",
      "<td><a href=\"mailto:bharathbhat2805@gmail.com\">Email</a></td>\n",
      "</tr>\n",
      "</tbody>\n",
      "</table>\n",
      "<img alt=\"hrushik_raj_s\" caption=\"Monkey\" height=\"200px\" src=\"monkey.png\" width=\"300px\"/>\n",
      "</p>\n"
     ]
    }
   ],
   "source": [
    "tags=soup.p\n",
    "print(tags)"
   ]
  },
  {
   "cell_type": "code",
   "execution_count": 19,
   "id": "68f5d4b5",
   "metadata": {},
   "outputs": [
    {
     "name": "stdout",
     "output_type": "stream",
     "text": [
      "None\n"
     ]
    }
   ],
   "source": [
    "tags=soup.b\n",
    "print(tags)"
   ]
  },
  {
   "cell_type": "code",
   "execution_count": 20,
   "id": "efb75e17",
   "metadata": {},
   "outputs": [
    {
     "name": "stdout",
     "output_type": "stream",
     "text": [
      "https://hbharathbhat.github.io/Portfolio/\n",
      "mailto:bharathbhat2805@gmail.com\n",
      "mailto:hrushikrajs@gmail.com\n",
      "mailto:1js21ec051@jssateb.ac.in\n",
      "mailto:bharathbhat2805@gmail.com\n"
     ]
    }
   ],
   "source": [
    "for link in soup.find_all('a'):\n",
    "    print(link.get('href'))"
   ]
  },
  {
   "cell_type": "code",
   "execution_count": 21,
   "id": "ccaa688c",
   "metadata": {},
   "outputs": [
    {
     "name": "stdout",
     "output_type": "stream",
     "text": [
      "\n",
      "\n",
      "\n",
      "\n",
      "\n",
      "Missing Students\n",
      "\n",
      "\n",
      "\n",
      "\n",
      "Names of People Missing\n",
      "India Wants to know\n",
      "Hrushik wants to know\n",
      "\r\n",
      "        These people were found missing from JSSATE\r\n",
      "        \n",
      "\n",
      "Names\n",
      "USN\n",
      "Contact\n",
      "\n",
      "\n",
      "\n",
      "H Bharath Bhat\n",
      "1JS21EC052\n",
      "Email\n",
      "\n",
      "\n",
      "Hrushik Raj S\n",
      "1JS21EC058\n",
      "Email\n",
      "\n",
      "\n",
      "HA Yeshwanth\n",
      "1JS21EC051\n",
      "Email\n",
      "\n",
      "\n",
      "Bharath Kumar SP\n",
      "1JS21EC0xx\n",
      "Email\n",
      "\n",
      "\n",
      "\n",
      "\n",
      "\n",
      "Bharath is a legend\n",
      "\n",
      "\n",
      "\n"
     ]
    }
   ],
   "source": [
    "print(soup.get_text())"
   ]
  },
  {
   "cell_type": "markdown",
   "id": "0f341b6b",
   "metadata": {},
   "source": [
    "## Retrieving an image over HTTP"
   ]
  },
  {
   "cell_type": "code",
   "execution_count": 21,
   "id": "39880ebd",
   "metadata": {},
   "outputs": [
    {
     "name": "stdout",
     "output_type": "stream",
     "text": [
      "Image successfully downloaded and saved as downloaded_image.jpg\n"
     ]
    }
   ],
   "source": [
    "# Uses requeest Library\n",
    "# URL of the image\n",
    "image_url = 'https://hbharathbhat.github.io/python_collab_act/monkey.png'\n",
    "\n",
    "# Send an HTTP GET request to the image URL\n",
    "response = requests.get(image_url, stream=True)\n",
    "\n",
    "# Check if the request was successful\n",
    "if response.status_code == 200:\n",
    "    # Open a file in binary write mode\n",
    "    with open('downloaded_image.jpg', 'wb') as out_file:\n",
    "        # Write the content of the response (image) to the file\n",
    "        for chunk in response.iter_content(chunk_size=8192):\n",
    "            out_file.write(chunk)\n",
    "    print('Image successfully downloaded and saved as downloaded_image.jpg')\n",
    "else:\n",
    "    print('Failed to retrieve image from', image_url)\n"
   ]
  },
  {
   "cell_type": "code",
   "execution_count": 22,
   "id": "fd223df0",
   "metadata": {},
   "outputs": [
    {
     "name": "stdout",
     "output_type": "stream",
     "text": [
      "Image successfully downloaded and saved as jssateb.jpg\n"
     ]
    }
   ],
   "source": [
    "# URL of the image\n",
    "image_url = 'https://th.bing.com/th/id/OIP.PrbS1OjT-tCDTjfA4fvp_gHaDF?w=350&h=145&c=7&r=0&o=5&dpr=1.3&pid=1.7'\n",
    "\n",
    "# Send an HTTP GET request to the image URL\n",
    "response = requests.get(image_url, stream=True)\n",
    "\n",
    "# Check if the request was successful\n",
    "if response.status_code == 200:\n",
    "    # Open a file in binary write mode\n",
    "    with open('jssateb.jpg', 'wb') as out_file:\n",
    "        # Write the content of the response (image) to the file\n",
    "        for chunk in response.iter_content(chunk_size=8192):\n",
    "            out_file.write(chunk)\n",
    "    print('Image successfully downloaded and saved as jssateb.jpg')\n",
    "else:\n",
    "    print('Failed to retrieve image from', image_url)\n"
   ]
  },
  {
   "cell_type": "markdown",
   "id": "7c5b5982",
   "metadata": {},
   "source": [
    "### Retrieving web pages using urllib "
   ]
  },
  {
   "cell_type": "code",
   "execution_count": 27,
   "id": "c99dcd39",
   "metadata": {},
   "outputs": [
    {
     "name": "stdout",
     "output_type": "stream",
     "text": [
      "b'<!DOCTYPE html>\\r\\n<html lang=\"en\">\\r\\n<head>\\r\\n    <meta charset=\"UTF-8\">\\r\\n    <meta name=\"viewport\" content=\"width=device-width, initial-scale=1.0\">\\r\\n    <title>Missing Students</title>\\r\\n    <link rel=\"stylesheet\" type=\"text/css\" href=\"collab.css\">\\r\\n</head>\\r\\n<body>\\r\\n    <br><br><br><br><br>\\r\\n    <header>Names of People Missing</header>\\r\\n    <p class=\"para01\">\\r\\n        These people were found missing from JSSATE\\r\\n        <table>\\r\\n            <thead>\\r\\n                <th>Names</th>\\r\\n                <th>USN</th>\\r\\n                <th>Contact</th>\\r\\n            </thead>\\r\\n            <tbody>\\r\\n                <tr>\\r\\n                    <td><a href=\"https://hbharathbhat.github.io/Portfolio/\">H Bharath Bhat</a></td>\\r\\n                    <td>1JS21EC052</td>\\r\\n                    <td><a href=\"mailto:bharathbhat2805@gmail.com\">Email</a></td>\\r\\n                </tr>\\r\\n                <tr>\\r\\n                    <td>Hrushik Raj S</td>\\r\\n                    <td>1JS21EC058</td>\\r\\n                    <td><a href=\"mailto:hrushikrajs@gmail.com\">Email</a></td>\\r\\n                </tr>\\r\\n                <tr>\\r\\n                    <td>HA Yeshwanth</td>\\r\\n                    <td>1JS21EC051</td>\\r\\n                    <td><a href=\"mailto:1js21ec051@jssateb.ac.in\">Email</a></td>\\r\\n                </tr>\\r\\n                <tr>\\r\\n                    <td>Bharath Kumar SP</td>\\r\\n                    <td>1JS21EC0xx</td>\\r\\n                    <td><a href=\"mailto:bharathbhat2805@gmail.com\">Email</a></td>\\r\\n                </tr>\\r\\n            </tbody>\\r\\n        </table>\\r\\n        <img src=\"monkey.png\" height=\"200px\" width=\"300px\" caption=\"Monkey\" alt=\"hrushik_raj_s\">\\r\\n    </p>\\r\\n\\r\\n    <p id=\"para02\">Bharath is a legend</p>\\r\\n</body>\\r\\n</html>'\n"
     ]
    }
   ],
   "source": [
    "import urllib.request \n",
    "request_url = urllib.request.urlopen('https://hbharathbhat.github.io/python_collab_act') \n",
    "print(request_url.read()) "
   ]
  },
  {
   "cell_type": "code",
   "execution_count": 33,
   "id": "a87faa19",
   "metadata": {},
   "outputs": [
    {
     "data": {
      "text/plain": [
       "'S:\\\\hbharathbhat.gtihub.io\\\\python_collab_act'"
      ]
     },
     "execution_count": 33,
     "metadata": {},
     "output_type": "execute_result"
    }
   ],
   "source": [
    "urllib.request.url2pathname('https:hbharathbhat.gtihub.io/python_collab_act')"
   ]
  },
  {
   "cell_type": "markdown",
   "id": "aaf56177",
   "metadata": {},
   "source": [
    "### Reading Binary Files using urllib"
   ]
  },
  {
   "cell_type": "code",
   "execution_count": 2,
   "id": "9bf4f1eb",
   "metadata": {},
   "outputs": [
    {
     "name": "stdout",
     "output_type": "stream",
     "text": [
      "209115 characters copied.\n"
     ]
    }
   ],
   "source": [
    "import urllib.request, urllib.parse, urllib.error\n",
    "\n",
    "img = urllib.request.urlopen('https://hbharathbhat.github.io/python_collab_act/monkey.png')\n",
    "fhand = open('cover3.jpg', 'wb')\n",
    "size = 0\n",
    "while True:\n",
    "    info = img.read(100000)\n",
    "    if len(info) < 1: break\n",
    "    size = size + len(info)\n",
    "    fhand.write(info)\n",
    "\n",
    "print(size, 'characters copied.')\n",
    "fhand.close()"
   ]
  },
  {
   "cell_type": "markdown",
   "id": "7aaa16d3",
   "metadata": {},
   "source": [
    "### Parsing HTML using RE\n"
   ]
  },
  {
   "cell_type": "code",
   "execution_count": 13,
   "id": "8abf0937",
   "metadata": {},
   "outputs": [
    {
     "name": "stdout",
     "output_type": "stream",
     "text": [
      "['Early and medieval history', 'Foundation and early modern history', 'Later modern and contemporary history', 'Climate', 'Languages', 'Management', 'Pollution control', 'Slums', 'Waste management', 'Air', 'Railways and Metro', 'Bus', 'Road', 'Art and literature', 'Theatre, music, and dance', 'Schools', 'Universities', 'Works cited']\n"
     ]
    }
   ],
   "source": [
    "import requests\n",
    "import re\n",
    "url=\"https://en.wikipedia.org/wiki/Bangalore\"\n",
    "html=requests.get(url)\n",
    "draft = re.findall(r'<h3 .*>(.*?)</h3>', html.text)\n",
    "print(draft)"
   ]
  },
  {
   "cell_type": "code",
   "execution_count": null,
   "id": "95a9cce7",
   "metadata": {},
   "outputs": [],
   "source": []
  }
 ],
 "metadata": {
  "kernelspec": {
   "display_name": "Python 3 (ipykernel)",
   "language": "python",
   "name": "python3"
  },
  "language_info": {
   "codemirror_mode": {
    "name": "ipython",
    "version": 3
   },
   "file_extension": ".py",
   "mimetype": "text/x-python",
   "name": "python",
   "nbconvert_exporter": "python",
   "pygments_lexer": "ipython3",
   "version": "3.11.5"
  }
 },
 "nbformat": 4,
 "nbformat_minor": 5
}
